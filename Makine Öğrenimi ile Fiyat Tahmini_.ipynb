{
 "cells": [
  {
   "cell_type": "markdown",
   "id": "0f1610ee",
   "metadata": {},
   "source": [
    "<h1 style=\"color:red, margin-left: 30px;\">Makine Öğrenimi ile Fiyat Tahmini: Bisiklet Örneği</h1>"
   ]
  },
  {
   "cell_type": "markdown",
   "id": "7eadf891",
   "metadata": {},
   "source": [
    "<p>Bu projenin temel amacı, bisiklet fiyatlarını etkileyen ana değişkenleri belirleyerek regresyon analizi ve makine öğrenmesi yöntemleriyle bir model oluşturmak. Bu model, bisiklet fiyatlarını tahmin etmek için kullanılabilir ve bisiklet endüstrisinde fiyatlandırma stratejilerini anlamak için değerli bir araç sağlayabilir</p>"
   ]
  },
  {
   "cell_type": "code",
   "execution_count": null,
   "id": "d7f6e2a7",
   "metadata": {},
   "outputs": [
    {
     "ename": "",
     "evalue": "",
     "output_type": "error",
     "traceback": [
      "\u001b[1;31mRunning cells with 'c:\\Users\\Hüseyin\\AppData\\Local\\Programs\\Python\\Python311\\python.exe' requires the ipykernel package.\n",
      "\u001b[1;31mRun the following command to install 'ipykernel' into the Python environment. \n",
      "\u001b[1;31mCommand: 'c:/Users/Hüseyin/AppData/Local/Programs/Python/Python311/python.exe -m pip install ipykernel -U --user --force-reinstall'"
     ]
    }
   ],
   "source": [
    "import pandas as pd\n",
    "import numpy as np\n",
    "import seaborn as sbn\n",
    "from sklearn.model_selection import train_test_split\n",
    "from tensorflow.keras.models import Sequential\n",
    "from tensorflow.keras.layers import Dense\n",
    "from sklearn.metrics import mean_absolute_error\n",
    "from sklearn.preprocessing import MinMaxScaler \n",
    "from keras.optimizers import Adam"
   ]
  },
  {
   "cell_type": "code",
   "execution_count": null,
   "id": "cc64f19a",
   "metadata": {},
   "outputs": [
    {
     "ename": "",
     "evalue": "",
     "output_type": "error",
     "traceback": [
      "\u001b[1;31mRunning cells with 'c:\\Users\\Hüseyin\\AppData\\Local\\Programs\\Python\\Python311\\python.exe' requires the ipykernel package.\n",
      "\u001b[1;31mRun the following command to install 'ipykernel' into the Python environment. \n",
      "\u001b[1;31mCommand: 'c:/Users/Hüseyin/AppData/Local/Programs/Python/Python311/python.exe -m pip install ipykernel -U --user --force-reinstall'"
     ]
    }
   ],
   "source": [
    "exel_verisi = pd.read_excel(\"bisiklet_fiyatlari.xlsx\")"
   ]
  },
  {
   "cell_type": "code",
   "execution_count": null,
   "id": "71453bf2",
   "metadata": {},
   "outputs": [
    {
     "ename": "",
     "evalue": "",
     "output_type": "error",
     "traceback": [
      "\u001b[1;31mRunning cells with 'c:\\Users\\Hüseyin\\AppData\\Local\\Programs\\Python\\Python311\\python.exe' requires the ipykernel package.\n",
      "\u001b[1;31mRun the following command to install 'ipykernel' into the Python environment. \n",
      "\u001b[1;31mCommand: 'c:/Users/Hüseyin/AppData/Local/Programs/Python/Python311/python.exe -m pip install ipykernel -U --user --force-reinstall'"
     ]
    }
   ],
   "source": [
    "exel_verisi.head()  # ilk 5 veri"
   ]
  },
  {
   "cell_type": "code",
   "execution_count": null,
   "id": "027424f7",
   "metadata": {},
   "outputs": [
    {
     "ename": "",
     "evalue": "",
     "output_type": "error",
     "traceback": [
      "\u001b[1;31mRunning cells with 'c:\\Users\\Hüseyin\\AppData\\Local\\Programs\\Python\\Python311\\python.exe' requires the ipykernel package.\n",
      "\u001b[1;31mRun the following command to install 'ipykernel' into the Python environment. \n",
      "\u001b[1;31mCommand: 'c:/Users/Hüseyin/AppData/Local/Programs/Python/Python311/python.exe -m pip install ipykernel -U --user --force-reinstall'"
     ]
    }
   ],
   "source": [
    "sbn.pairplot(exel_verisi) #genel dagılımı anlmak adına sbn.pairplot kullandım"
   ]
  },
  {
   "cell_type": "code",
   "execution_count": null,
   "id": "d1646b58",
   "metadata": {},
   "outputs": [
    {
     "ename": "",
     "evalue": "",
     "output_type": "error",
     "traceback": [
      "\u001b[1;31mRunning cells with 'c:\\Users\\Hüseyin\\AppData\\Local\\Programs\\Python\\Python311\\python.exe' requires the ipykernel package.\n",
      "\u001b[1;31mRun the following command to install 'ipykernel' into the Python environment. \n",
      "\u001b[1;31mCommand: 'c:/Users/Hüseyin/AppData/Local/Programs/Python/Python311/python.exe -m pip install ipykernel -U --user --force-reinstall'"
     ]
    }
   ],
   "source": [
    "sbn.scatterplot(x = exel_verisi[\"Fiyat\"],y = exel_verisi[\"BisikletOzellik1\"])"
   ]
  },
  {
   "cell_type": "code",
   "execution_count": null,
   "id": "cee3f3cf",
   "metadata": {},
   "outputs": [
    {
     "ename": "",
     "evalue": "",
     "output_type": "error",
     "traceback": [
      "\u001b[1;31mRunning cells with 'c:\\Users\\Hüseyin\\AppData\\Local\\Programs\\Python\\Python311\\python.exe' requires the ipykernel package.\n",
      "\u001b[1;31mRun the following command to install 'ipykernel' into the Python environment. \n",
      "\u001b[1;31mCommand: 'c:/Users/Hüseyin/AppData/Local/Programs/Python/Python311/python.exe -m pip install ipykernel -U --user --force-reinstall'"
     ]
    }
   ],
   "source": [
    "sbn.scatterplot(x = exel_verisi[\"Fiyat\"],y = exel_verisi[\"BisikletOzellik2\"])"
   ]
  },
  {
   "cell_type": "code",
   "execution_count": null,
   "id": "b07ed0da",
   "metadata": {},
   "outputs": [
    {
     "ename": "",
     "evalue": "",
     "output_type": "error",
     "traceback": [
      "\u001b[1;31mRunning cells with 'c:\\Users\\Hüseyin\\AppData\\Local\\Programs\\Python\\Python311\\python.exe' requires the ipykernel package.\n",
      "\u001b[1;31mRun the following command to install 'ipykernel' into the Python environment. \n",
      "\u001b[1;31mCommand: 'c:/Users/Hüseyin/AppData/Local/Programs/Python/Python311/python.exe -m pip install ipykernel -U --user --force-reinstall'"
     ]
    }
   ],
   "source": [
    "#veri setinin hazırlanması"
   ]
  },
  {
   "cell_type": "raw",
   "id": "1754c678",
   "metadata": {},
   "source": [
    "denklemin y=ax+b formunda oldugunu düşünelim bu durumda y degreri fiyatı temsil ederken x degeri diger değişkenleri temsil eder"
   ]
  },
  {
   "cell_type": "code",
   "execution_count": null,
   "id": "8a1089c9",
   "metadata": {},
   "outputs": [
    {
     "ename": "",
     "evalue": "",
     "output_type": "error",
     "traceback": [
      "\u001b[1;31mRunning cells with 'c:\\Users\\Hüseyin\\AppData\\Local\\Programs\\Python\\Python311\\python.exe' requires the ipykernel package.\n",
      "\u001b[1;31mRun the following command to install 'ipykernel' into the Python environment. \n",
      "\u001b[1;31mCommand: 'c:/Users/Hüseyin/AppData/Local/Programs/Python/Python311/python.exe -m pip install ipykernel -U --user --force-reinstall'"
     ]
    }
   ],
   "source": [
    "y_degeri = exel_verisi[\"Fiyat\"].values "
   ]
  },
  {
   "cell_type": "code",
   "execution_count": null,
   "id": "16f063c9",
   "metadata": {},
   "outputs": [
    {
     "ename": "",
     "evalue": "",
     "output_type": "error",
     "traceback": [
      "\u001b[1;31mRunning cells with 'c:\\Users\\Hüseyin\\AppData\\Local\\Programs\\Python\\Python311\\python.exe' requires the ipykernel package.\n",
      "\u001b[1;31mRun the following command to install 'ipykernel' into the Python environment. \n",
      "\u001b[1;31mCommand: 'c:/Users/Hüseyin/AppData/Local/Programs/Python/Python311/python.exe -m pip install ipykernel -U --user --force-reinstall'"
     ]
    }
   ],
   "source": [
    "x_degerleri = exel_verisi[[\"BisikletOzellik1\",\"BisikletOzellik2\"]].values"
   ]
  },
  {
   "cell_type": "code",
   "execution_count": null,
   "id": "21e41297",
   "metadata": {},
   "outputs": [
    {
     "ename": "",
     "evalue": "",
     "output_type": "error",
     "traceback": [
      "\u001b[1;31mRunning cells with 'c:\\Users\\Hüseyin\\AppData\\Local\\Programs\\Python\\Python311\\python.exe' requires the ipykernel package.\n",
      "\u001b[1;31mRun the following command to install 'ipykernel' into the Python environment. \n",
      "\u001b[1;31mCommand: 'c:/Users/Hüseyin/AppData/Local/Programs/Python/Python311/python.exe -m pip install ipykernel -U --user --force-reinstall'"
     ]
    }
   ],
   "source": [
    "x_degerleri[0:5] #x degerleri y degerine ulaşmamaızı saglayan değişkenlerdir  örn gösterim"
   ]
  },
  {
   "cell_type": "code",
   "execution_count": null,
   "id": "3b4f10df",
   "metadata": {},
   "outputs": [
    {
     "ename": "",
     "evalue": "",
     "output_type": "error",
     "traceback": [
      "\u001b[1;31mRunning cells with 'c:\\Users\\Hüseyin\\AppData\\Local\\Programs\\Python\\Python311\\python.exe' requires the ipykernel package.\n",
      "\u001b[1;31mRun the following command to install 'ipykernel' into the Python environment. \n",
      "\u001b[1;31mCommand: 'c:/Users/Hüseyin/AppData/Local/Programs/Python/Python311/python.exe -m pip install ipykernel -U --user --force-reinstall'"
     ]
    }
   ],
   "source": [
    "y_degeri[0:5] # y degerleri bizim sonucumuzdur örn gösterim ilk5 değer için"
   ]
  },
  {
   "cell_type": "code",
   "execution_count": null,
   "id": "50214548",
   "metadata": {},
   "outputs": [
    {
     "ename": "",
     "evalue": "",
     "output_type": "error",
     "traceback": [
      "\u001b[1;31mRunning cells with 'c:\\Users\\Hüseyin\\AppData\\Local\\Programs\\Python\\Python311\\python.exe' requires the ipykernel package.\n",
      "\u001b[1;31mRun the following command to install 'ipykernel' into the Python environment. \n",
      "\u001b[1;31mCommand: 'c:/Users/Hüseyin/AppData/Local/Programs/Python/Python311/python.exe -m pip install ipykernel -U --user --force-reinstall'"
     ]
    }
   ],
   "source": [
    "#veri setinin bölünmesi"
   ]
  },
  {
   "cell_type": "code",
   "execution_count": null,
   "id": "d24ee8ef",
   "metadata": {},
   "outputs": [
    {
     "ename": "",
     "evalue": "",
     "output_type": "error",
     "traceback": [
      "\u001b[1;31mRunning cells with 'c:\\Users\\Hüseyin\\AppData\\Local\\Programs\\Python\\Python311\\python.exe' requires the ipykernel package.\n",
      "\u001b[1;31mRun the following command to install 'ipykernel' into the Python environment. \n",
      "\u001b[1;31mCommand: 'c:/Users/Hüseyin/AppData/Local/Programs/Python/Python311/python.exe -m pip install ipykernel -U --user --force-reinstall'"
     ]
    }
   ],
   "source": [
    "x_train,x_test,y_train,y_test  =train_test_split(x_degerleri,y_degeri,test_size=0.40)"
   ]
  },
  {
   "cell_type": "code",
   "execution_count": null,
   "id": "1d725544",
   "metadata": {},
   "outputs": [
    {
     "ename": "",
     "evalue": "",
     "output_type": "error",
     "traceback": [
      "\u001b[1;31mRunning cells with 'c:\\Users\\Hüseyin\\AppData\\Local\\Programs\\Python\\Python311\\python.exe' requires the ipykernel package.\n",
      "\u001b[1;31mRun the following command to install 'ipykernel' into the Python environment. \n",
      "\u001b[1;31mCommand: 'c:/Users/Hüseyin/AppData/Local/Programs/Python/Python311/python.exe -m pip install ipykernel -U --user --force-reinstall'"
     ]
    }
   ],
   "source": [
    "print(x_train)\n",
    "print(f\"x_train degerinin elaman sayisi {len(x_train)}\")\n",
    "print(x_train.shape)"
   ]
  },
  {
   "cell_type": "code",
   "execution_count": null,
   "id": "e1793a32",
   "metadata": {},
   "outputs": [
    {
     "ename": "",
     "evalue": "",
     "output_type": "error",
     "traceback": [
      "\u001b[1;31mRunning cells with 'c:\\Users\\Hüseyin\\AppData\\Local\\Programs\\Python\\Python311\\python.exe' requires the ipykernel package.\n",
      "\u001b[1;31mRun the following command to install 'ipykernel' into the Python environment. \n",
      "\u001b[1;31mCommand: 'c:/Users/Hüseyin/AppData/Local/Programs/Python/Python311/python.exe -m pip install ipykernel -U --user --force-reinstall'"
     ]
    }
   ],
   "source": [
    "print(x_test[0:5]) #ÖRNEK GÖSTERMEK ADINA İLK 5 ELAMANI ALDIM\n",
    "print(f\"x_train degerinin elaman sayisi {len(x_test)}\")\n",
    "print(x_test.shape)"
   ]
  },
  {
   "cell_type": "code",
   "execution_count": null,
   "id": "e1217de4",
   "metadata": {},
   "outputs": [
    {
     "ename": "",
     "evalue": "",
     "output_type": "error",
     "traceback": [
      "\u001b[1;31mRunning cells with 'c:\\Users\\Hüseyin\\AppData\\Local\\Programs\\Python\\Python311\\python.exe' requires the ipykernel package.\n",
      "\u001b[1;31mRun the following command to install 'ipykernel' into the Python environment. \n",
      "\u001b[1;31mCommand: 'c:/Users/Hüseyin/AppData/Local/Programs/Python/Python311/python.exe -m pip install ipykernel -U --user --force-reinstall'"
     ]
    }
   ],
   "source": [
    "#x_train ve x_test degerlerini 0-1 aralıgına alarak performansı arttırmamız gerekiyor bundan dolayı"
   ]
  },
  {
   "cell_type": "code",
   "execution_count": null,
   "id": "d936e65b",
   "metadata": {},
   "outputs": [
    {
     "ename": "",
     "evalue": "",
     "output_type": "error",
     "traceback": [
      "\u001b[1;31mRunning cells with 'c:\\Users\\Hüseyin\\AppData\\Local\\Programs\\Python\\Python311\\python.exe' requires the ipykernel package.\n",
      "\u001b[1;31mRun the following command to install 'ipykernel' into the Python environment. \n",
      "\u001b[1;31mCommand: 'c:/Users/Hüseyin/AppData/Local/Programs/Python/Python311/python.exe -m pip install ipykernel -U --user --force-reinstall'"
     ]
    }
   ],
   "source": [
    "scaler = MinMaxScaler()"
   ]
  },
  {
   "cell_type": "code",
   "execution_count": null,
   "id": "fa48ff62",
   "metadata": {},
   "outputs": [
    {
     "ename": "",
     "evalue": "",
     "output_type": "error",
     "traceback": [
      "\u001b[1;31mRunning cells with 'c:\\Users\\Hüseyin\\AppData\\Local\\Programs\\Python\\Python311\\python.exe' requires the ipykernel package.\n",
      "\u001b[1;31mRun the following command to install 'ipykernel' into the Python environment. \n",
      "\u001b[1;31mCommand: 'c:/Users/Hüseyin/AppData/Local/Programs/Python/Python311/python.exe -m pip install ipykernel -U --user --force-reinstall'"
     ]
    }
   ],
   "source": [
    "scaler.fit(x_train)"
   ]
  },
  {
   "cell_type": "code",
   "execution_count": null,
   "id": "ce36a471",
   "metadata": {},
   "outputs": [
    {
     "ename": "",
     "evalue": "",
     "output_type": "error",
     "traceback": [
      "\u001b[1;31mRunning cells with 'c:\\Users\\Hüseyin\\AppData\\Local\\Programs\\Python\\Python311\\python.exe' requires the ipykernel package.\n",
      "\u001b[1;31mRun the following command to install 'ipykernel' into the Python environment. \n",
      "\u001b[1;31mCommand: 'c:/Users/Hüseyin/AppData/Local/Programs/Python/Python311/python.exe -m pip install ipykernel -U --user --force-reinstall'"
     ]
    }
   ],
   "source": [
    "x_train = scaler.transform(x_train)\n",
    "#Bu işlem, modelin eğitim verileri üzerinde daha iyi performans göstermesine katkıda bulunabilir.\n",
    "#Bu ölçekleme işlemi, genellikle eğitim verilerini ölçeklendirdikten sonra test verilerini \n",
    "#aynı ölçeklendirme kurallarına tabi tutarak devam ettirilir."
   ]
  },
  {
   "cell_type": "code",
   "execution_count": null,
   "id": "8058d63f",
   "metadata": {},
   "outputs": [
    {
     "ename": "",
     "evalue": "",
     "output_type": "error",
     "traceback": [
      "\u001b[1;31mRunning cells with 'c:\\Users\\Hüseyin\\AppData\\Local\\Programs\\Python\\Python311\\python.exe' requires the ipykernel package.\n",
      "\u001b[1;31mRun the following command to install 'ipykernel' into the Python environment. \n",
      "\u001b[1;31mCommand: 'c:/Users/Hüseyin/AppData/Local/Programs/Python/Python311/python.exe -m pip install ipykernel -U --user --force-reinstall'"
     ]
    }
   ],
   "source": [
    "x_train[0:10]"
   ]
  },
  {
   "cell_type": "code",
   "execution_count": null,
   "id": "f7a80022",
   "metadata": {},
   "outputs": [
    {
     "ename": "",
     "evalue": "",
     "output_type": "error",
     "traceback": [
      "\u001b[1;31mRunning cells with 'c:\\Users\\Hüseyin\\AppData\\Local\\Programs\\Python\\Python311\\python.exe' requires the ipykernel package.\n",
      "\u001b[1;31mRun the following command to install 'ipykernel' into the Python environment. \n",
      "\u001b[1;31mCommand: 'c:/Users/Hüseyin/AppData/Local/Programs/Python/Python311/python.exe -m pip install ipykernel -U --user --force-reinstall'"
     ]
    }
   ],
   "source": [
    "scaler.fit(x_test)"
   ]
  },
  {
   "cell_type": "code",
   "execution_count": null,
   "id": "743af14d",
   "metadata": {},
   "outputs": [
    {
     "ename": "",
     "evalue": "",
     "output_type": "error",
     "traceback": [
      "\u001b[1;31mRunning cells with 'c:\\Users\\Hüseyin\\AppData\\Local\\Programs\\Python\\Python311\\python.exe' requires the ipykernel package.\n",
      "\u001b[1;31mRun the following command to install 'ipykernel' into the Python environment. \n",
      "\u001b[1;31mCommand: 'c:/Users/Hüseyin/AppData/Local/Programs/Python/Python311/python.exe -m pip install ipykernel -U --user --force-reinstall'"
     ]
    }
   ],
   "source": [
    "x_test = scaler.transform(x_test)\n",
    "#Bu işlem, modelin eğitim verileri üzerinde daha iyi performans göstermesine katkıda bulunabilir.\n",
    "#Bu ölçekleme işlemi, genellikle eğitim verilerini ölçeklendirdikten sonra test verilerini \n",
    "#aynı ölçeklendirme kurallarına tabi tutarak devam ettirilir."
   ]
  },
  {
   "cell_type": "code",
   "execution_count": null,
   "id": "b01f0e85",
   "metadata": {},
   "outputs": [
    {
     "ename": "",
     "evalue": "",
     "output_type": "error",
     "traceback": [
      "\u001b[1;31mRunning cells with 'c:\\Users\\Hüseyin\\AppData\\Local\\Programs\\Python\\Python311\\python.exe' requires the ipykernel package.\n",
      "\u001b[1;31mRun the following command to install 'ipykernel' into the Python environment. \n",
      "\u001b[1;31mCommand: 'c:/Users/Hüseyin/AppData/Local/Programs/Python/Python311/python.exe -m pip install ipykernel -U --user --force-reinstall'"
     ]
    }
   ],
   "source": [
    "x_test[0:10] #örn gösterim ilk 10 değer için"
   ]
  },
  {
   "cell_type": "code",
   "execution_count": null,
   "id": "e15efe6c",
   "metadata": {},
   "outputs": [
    {
     "ename": "",
     "evalue": "",
     "output_type": "error",
     "traceback": [
      "\u001b[1;31mRunning cells with 'c:\\Users\\Hüseyin\\AppData\\Local\\Programs\\Python\\Python311\\python.exe' requires the ipykernel package.\n",
      "\u001b[1;31mRun the following command to install 'ipykernel' into the Python environment. \n",
      "\u001b[1;31mCommand: 'c:/Users/Hüseyin/AppData/Local/Programs/Python/Python311/python.exe -m pip install ipykernel -U --user --force-reinstall'"
     ]
    }
   ],
   "source": [
    "#model oluşturma aşaması"
   ]
  },
  {
   "cell_type": "code",
   "execution_count": null,
   "id": "7f01b7ea",
   "metadata": {},
   "outputs": [
    {
     "name": "stdout",
     "output_type": "stream",
     "text": [
      "Epoch 1/400\n",
      "19/19 [==============================] - 1s 2ms/step - loss: 813579.6250\n",
      "Epoch 2/400\n",
      "19/19 [==============================] - 0s 2ms/step - loss: 813509.4375\n",
      "Epoch 3/400\n",
      "19/19 [==============================] - 0s 2ms/step - loss: 813419.6875\n",
      "Epoch 4/400\n",
      "19/19 [==============================] - 0s 2ms/step - loss: 813298.7500\n",
      "Epoch 5/400\n",
      "19/19 [==============================] - 0s 2ms/step - loss: 813133.1250\n",
      "Epoch 6/400\n",
      "19/19 [==============================] - 0s 2ms/step - loss: 812901.0625\n",
      "Epoch 7/400\n",
      "19/19 [==============================] - 0s 2ms/step - loss: 812574.0000\n",
      "Epoch 8/400\n",
      "19/19 [==============================] - 0s 2ms/step - loss: 812111.4375\n",
      "Epoch 9/400\n",
      "19/19 [==============================] - 0s 2ms/step - loss: 811448.9375\n",
      "Epoch 10/400\n",
      "19/19 [==============================] - 0s 2ms/step - loss: 810506.9375\n",
      "Epoch 11/400\n",
      "19/19 [==============================] - 0s 2ms/step - loss: 809164.7500\n",
      "Epoch 12/400\n",
      "19/19 [==============================] - 0s 2ms/step - loss: 807302.6875\n",
      "Epoch 13/400\n",
      "19/19 [==============================] - 0s 2ms/step - loss: 804725.2500\n",
      "Epoch 14/400\n",
      "19/19 [==============================] - 0s 2ms/step - loss: 801204.2500\n",
      "Epoch 15/400\n",
      "19/19 [==============================] - 0s 2ms/step - loss: 796479.5000\n",
      "Epoch 16/400\n",
      "19/19 [==============================] - 0s 2ms/step - loss: 790246.1250\n",
      "Epoch 17/400\n",
      "19/19 [==============================] - 0s 2ms/step - loss: 782073.0000\n",
      "Epoch 18/400\n",
      "19/19 [==============================] - 0s 2ms/step - loss: 771542.3750\n",
      "Epoch 19/400\n",
      "19/19 [==============================] - 0s 2ms/step - loss: 758171.0625\n",
      "Epoch 20/400\n",
      "19/19 [==============================] - 0s 2ms/step - loss: 741294.6875\n",
      "Epoch 21/400\n",
      "19/19 [==============================] - 0s 2ms/step - loss: 720601.6250\n",
      "Epoch 22/400\n",
      "19/19 [==============================] - 0s 2ms/step - loss: 695265.7500\n",
      "Epoch 23/400\n",
      "19/19 [==============================] - 0s 2ms/step - loss: 664729.2500\n",
      "Epoch 24/400\n",
      "19/19 [==============================] - 0s 2ms/step - loss: 628818.1875\n",
      "Epoch 25/400\n",
      "19/19 [==============================] - 0s 2ms/step - loss: 587012.3125\n",
      "Epoch 26/400\n",
      "19/19 [==============================] - 0s 2ms/step - loss: 539580.9375\n",
      "Epoch 27/400\n",
      "19/19 [==============================] - 0s 2ms/step - loss: 486535.7812\n",
      "Epoch 28/400\n",
      "19/19 [==============================] - 0s 2ms/step - loss: 429208.0938\n",
      "Epoch 29/400\n",
      "19/19 [==============================] - 0s 2ms/step - loss: 368404.5312\n",
      "Epoch 30/400\n",
      "19/19 [==============================] - 0s 2ms/step - loss: 306132.4688\n",
      "Epoch 31/400\n",
      "19/19 [==============================] - 0s 2ms/step - loss: 245148.2188\n",
      "Epoch 32/400\n",
      "19/19 [==============================] - 0s 2ms/step - loss: 187608.5469\n",
      "Epoch 33/400\n",
      "19/19 [==============================] - 0s 2ms/step - loss: 136364.5469\n",
      "Epoch 34/400\n",
      "19/19 [==============================] - 0s 2ms/step - loss: 94033.1562\n",
      "Epoch 35/400\n",
      "19/19 [==============================] - 0s 2ms/step - loss: 61311.0469\n",
      "Epoch 36/400\n",
      "19/19 [==============================] - 0s 2ms/step - loss: 38281.9766\n",
      "Epoch 37/400\n",
      "19/19 [==============================] - 0s 2ms/step - loss: 23841.6426\n",
      "Epoch 38/400\n",
      "19/19 [==============================] - 0s 2ms/step - loss: 15641.1699\n",
      "Epoch 39/400\n",
      "19/19 [==============================] - 0s 2ms/step - loss: 11345.1680\n",
      "Epoch 40/400\n",
      "19/19 [==============================] - 0s 2ms/step - loss: 9525.4102\n",
      "Epoch 41/400\n",
      "19/19 [==============================] - 0s 2ms/step - loss: 8753.0479\n",
      "Epoch 42/400\n",
      "19/19 [==============================] - 0s 2ms/step - loss: 8430.4180\n",
      "Epoch 43/400\n",
      "19/19 [==============================] - 0s 2ms/step - loss: 8330.2461\n",
      "Epoch 44/400\n",
      "19/19 [==============================] - 0s 2ms/step - loss: 8281.3604\n",
      "Epoch 45/400\n",
      "19/19 [==============================] - 0s 2ms/step - loss: 8243.8701\n",
      "Epoch 46/400\n",
      "19/19 [==============================] - 0s 2ms/step - loss: 8221.1396\n",
      "Epoch 47/400\n",
      "19/19 [==============================] - 0s 2ms/step - loss: 8200.7988\n",
      "Epoch 48/400\n",
      "19/19 [==============================] - 0s 2ms/step - loss: 8186.7183\n",
      "Epoch 49/400\n",
      "19/19 [==============================] - 0s 2ms/step - loss: 8160.7266\n",
      "Epoch 50/400\n",
      "19/19 [==============================] - 0s 2ms/step - loss: 8136.2451\n",
      "Epoch 51/400\n",
      "19/19 [==============================] - 0s 2ms/step - loss: 8121.0283\n",
      "Epoch 52/400\n",
      "19/19 [==============================] - 0s 2ms/step - loss: 8091.8467\n",
      "Epoch 53/400\n",
      "19/19 [==============================] - 0s 2ms/step - loss: 8071.4883\n",
      "Epoch 54/400\n",
      "19/19 [==============================] - 0s 2ms/step - loss: 8048.5835\n",
      "Epoch 55/400\n",
      "19/19 [==============================] - 0s 2ms/step - loss: 8029.5273\n",
      "Epoch 56/400\n",
      "19/19 [==============================] - 0s 2ms/step - loss: 8002.7715\n",
      "Epoch 57/400\n",
      "19/19 [==============================] - 0s 2ms/step - loss: 7980.3750\n",
      "Epoch 58/400\n",
      "19/19 [==============================] - 0s 2ms/step - loss: 7957.4644\n",
      "Epoch 59/400\n",
      "19/19 [==============================] - 0s 2ms/step - loss: 7932.1733\n",
      "Epoch 60/400\n",
      "19/19 [==============================] - 0s 2ms/step - loss: 7910.3149\n",
      "Epoch 61/400\n",
      "19/19 [==============================] - 0s 2ms/step - loss: 7884.9341\n",
      "Epoch 62/400\n",
      "19/19 [==============================] - 0s 2ms/step - loss: 7864.4648\n",
      "Epoch 63/400\n",
      "19/19 [==============================] - 0s 2ms/step - loss: 7838.8281\n",
      "Epoch 64/400\n",
      "19/19 [==============================] - 0s 2ms/step - loss: 7812.6035\n",
      "Epoch 65/400\n",
      "19/19 [==============================] - 0s 2ms/step - loss: 7786.1558\n",
      "Epoch 66/400\n",
      "19/19 [==============================] - 0s 2ms/step - loss: 7763.7090\n",
      "Epoch 67/400\n",
      "19/19 [==============================] - 0s 2ms/step - loss: 7735.2959\n",
      "Epoch 68/400\n",
      "19/19 [==============================] - 0s 2ms/step - loss: 7713.9565\n",
      "Epoch 69/400\n",
      "19/19 [==============================] - 0s 2ms/step - loss: 7686.3550\n",
      "Epoch 70/400\n",
      "19/19 [==============================] - 0s 2ms/step - loss: 7656.8750\n",
      "Epoch 71/400\n",
      "19/19 [==============================] - 0s 2ms/step - loss: 7635.6968\n",
      "Epoch 72/400\n",
      "19/19 [==============================] - 0s 2ms/step - loss: 7604.8843\n",
      "Epoch 73/400\n",
      "19/19 [==============================] - 0s 2ms/step - loss: 7578.0723\n",
      "Epoch 74/400\n",
      "19/19 [==============================] - 0s 2ms/step - loss: 7550.6973\n",
      "Epoch 75/400\n",
      "19/19 [==============================] - 0s 2ms/step - loss: 7529.8623\n",
      "Epoch 76/400\n",
      "19/19 [==============================] - 0s 2ms/step - loss: 7496.2124\n",
      "Epoch 77/400\n",
      "19/19 [==============================] - 0s 2ms/step - loss: 7468.9883\n",
      "Epoch 78/400\n",
      "19/19 [==============================] - 0s 2ms/step - loss: 7440.6235\n",
      "Epoch 79/400\n",
      "19/19 [==============================] - 0s 2ms/step - loss: 7414.5210\n",
      "Epoch 80/400\n",
      "19/19 [==============================] - 0s 2ms/step - loss: 7382.1758\n",
      "Epoch 81/400\n",
      "19/19 [==============================] - 0s 2ms/step - loss: 7352.5068\n",
      "Epoch 82/400\n",
      "19/19 [==============================] - 0s 2ms/step - loss: 7325.1592\n",
      "Epoch 83/400\n",
      "19/19 [==============================] - 0s 2ms/step - loss: 7298.8135\n",
      "Epoch 84/400\n",
      "19/19 [==============================] - 0s 2ms/step - loss: 7265.6499\n",
      "Epoch 85/400\n",
      "19/19 [==============================] - 0s 2ms/step - loss: 7234.9326\n",
      "Epoch 86/400\n",
      "19/19 [==============================] - 0s 2ms/step - loss: 7212.4165\n",
      "Epoch 87/400\n",
      "19/19 [==============================] - 0s 2ms/step - loss: 7175.4116\n",
      "Epoch 88/400\n",
      "19/19 [==============================] - 0s 2ms/step - loss: 7145.2432\n",
      "Epoch 89/400\n",
      "19/19 [==============================] - 0s 1ms/step - loss: 7114.0850\n",
      "Epoch 90/400\n",
      "19/19 [==============================] - 0s 2ms/step - loss: 7083.5815\n",
      "Epoch 91/400\n",
      "19/19 [==============================] - 0s 2ms/step - loss: 7053.4531\n",
      "Epoch 92/400\n",
      "19/19 [==============================] - 0s 2ms/step - loss: 7020.9175\n",
      "Epoch 93/400\n",
      "19/19 [==============================] - 0s 2ms/step - loss: 6992.2515\n",
      "Epoch 94/400\n",
      "19/19 [==============================] - 0s 2ms/step - loss: 6958.2734\n",
      "Epoch 95/400\n",
      "19/19 [==============================] - 0s 2ms/step - loss: 6927.0215\n",
      "Epoch 96/400\n",
      "19/19 [==============================] - 0s 2ms/step - loss: 6894.5449\n",
      "Epoch 97/400\n"
     ]
    },
    {
     "name": "stdout",
     "output_type": "stream",
     "text": [
      "19/19 [==============================] - 0s 2ms/step - loss: 6864.3350\n",
      "Epoch 98/400\n",
      "19/19 [==============================] - 0s 2ms/step - loss: 6835.1294\n",
      "Epoch 99/400\n",
      "19/19 [==============================] - 0s 2ms/step - loss: 6801.9810\n",
      "Epoch 100/400\n",
      "19/19 [==============================] - 0s 2ms/step - loss: 6771.5410\n",
      "Epoch 101/400\n",
      "19/19 [==============================] - 0s 2ms/step - loss: 6732.3735\n",
      "Epoch 102/400\n",
      "19/19 [==============================] - 0s 2ms/step - loss: 6698.4116\n",
      "Epoch 103/400\n",
      "19/19 [==============================] - 0s 2ms/step - loss: 6666.0811\n",
      "Epoch 104/400\n",
      "19/19 [==============================] - 0s 1ms/step - loss: 6633.1362\n",
      "Epoch 105/400\n",
      "19/19 [==============================] - 0s 1ms/step - loss: 6596.3359\n",
      "Epoch 106/400\n",
      "19/19 [==============================] - 0s 2ms/step - loss: 6565.1870\n",
      "Epoch 107/400\n",
      "19/19 [==============================] - 0s 2ms/step - loss: 6528.4683\n",
      "Epoch 108/400\n",
      "19/19 [==============================] - 0s 2ms/step - loss: 6493.3428\n",
      "Epoch 109/400\n",
      "19/19 [==============================] - 0s 1ms/step - loss: 6461.9316\n",
      "Epoch 110/400\n",
      "19/19 [==============================] - 0s 2ms/step - loss: 6425.0269\n",
      "Epoch 111/400\n",
      "19/19 [==============================] - 0s 2ms/step - loss: 6388.1851\n",
      "Epoch 112/400\n",
      "19/19 [==============================] - 0s 1ms/step - loss: 6358.2827\n",
      "Epoch 113/400\n",
      "19/19 [==============================] - 0s 2ms/step - loss: 6319.3511\n",
      "Epoch 114/400\n",
      "19/19 [==============================] - 0s 2ms/step - loss: 6282.4995\n",
      "Epoch 115/400\n",
      "19/19 [==============================] - 0s 2ms/step - loss: 6246.4839\n",
      "Epoch 116/400\n",
      "19/19 [==============================] - 0s 2ms/step - loss: 6213.0903\n",
      "Epoch 117/400\n",
      "19/19 [==============================] - 0s 1ms/step - loss: 6177.0015\n",
      "Epoch 118/400\n",
      "19/19 [==============================] - 0s 1ms/step - loss: 6143.9160\n",
      "Epoch 119/400\n",
      "19/19 [==============================] - 0s 2ms/step - loss: 6108.2734\n",
      "Epoch 120/400\n",
      "19/19 [==============================] - 0s 2ms/step - loss: 6065.9648\n",
      "Epoch 121/400\n",
      "19/19 [==============================] - 0s 1ms/step - loss: 6032.9116\n",
      "Epoch 122/400\n",
      "19/19 [==============================] - 0s 2ms/step - loss: 5995.4834\n",
      "Epoch 123/400\n",
      "19/19 [==============================] - 0s 2ms/step - loss: 5961.9746\n",
      "Epoch 124/400\n",
      "19/19 [==============================] - 0s 2ms/step - loss: 5924.0439\n",
      "Epoch 125/400\n",
      "19/19 [==============================] - 0s 1ms/step - loss: 5888.0825\n",
      "Epoch 126/400\n",
      "19/19 [==============================] - 0s 2ms/step - loss: 5844.4873\n",
      "Epoch 127/400\n",
      "19/19 [==============================] - 0s 2ms/step - loss: 5806.2939\n",
      "Epoch 128/400\n",
      "19/19 [==============================] - 0s 2ms/step - loss: 5771.4380\n",
      "Epoch 129/400\n",
      "19/19 [==============================] - 0s 2ms/step - loss: 5744.6851\n",
      "Epoch 130/400\n",
      "19/19 [==============================] - 0s 2ms/step - loss: 5695.3975\n",
      "Epoch 131/400\n",
      "19/19 [==============================] - 0s 2ms/step - loss: 5655.0972\n",
      "Epoch 132/400\n",
      "19/19 [==============================] - 0s 2ms/step - loss: 5620.2061\n",
      "Epoch 133/400\n",
      "19/19 [==============================] - 0s 1ms/step - loss: 5577.8550\n",
      "Epoch 134/400\n",
      "19/19 [==============================] - 0s 2ms/step - loss: 5548.5586\n",
      "Epoch 135/400\n",
      "19/19 [==============================] - 0s 2ms/step - loss: 5501.8486\n",
      "Epoch 136/400\n",
      "19/19 [==============================] - 0s 2ms/step - loss: 5463.8291\n",
      "Epoch 137/400\n",
      "19/19 [==============================] - 0s 2ms/step - loss: 5422.9873\n",
      "Epoch 138/400\n",
      "19/19 [==============================] - 0s 2ms/step - loss: 5384.8926\n",
      "Epoch 139/400\n",
      "19/19 [==============================] - 0s 2ms/step - loss: 5347.4688\n",
      "Epoch 140/400\n",
      "19/19 [==============================] - 0s 2ms/step - loss: 5310.1450\n",
      "Epoch 141/400\n",
      "19/19 [==============================] - 0s 2ms/step - loss: 5271.5610\n",
      "Epoch 142/400\n",
      "19/19 [==============================] - 0s 2ms/step - loss: 5226.1406\n",
      "Epoch 143/400\n",
      "19/19 [==============================] - 0s 2ms/step - loss: 5185.3540\n",
      "Epoch 144/400\n",
      "19/19 [==============================] - 0s 2ms/step - loss: 5145.5620\n",
      "Epoch 145/400\n",
      "19/19 [==============================] - 0s 2ms/step - loss: 5107.5322\n",
      "Epoch 146/400\n",
      "19/19 [==============================] - 0s 2ms/step - loss: 5071.1787\n",
      "Epoch 147/400\n",
      "19/19 [==============================] - 0s 2ms/step - loss: 5026.1167\n",
      "Epoch 148/400\n",
      "19/19 [==============================] - 0s 2ms/step - loss: 4989.6362\n",
      "Epoch 149/400\n",
      "19/19 [==============================] - 0s 2ms/step - loss: 4948.3423\n",
      "Epoch 150/400\n",
      "19/19 [==============================] - 0s 2ms/step - loss: 4917.6807\n",
      "Epoch 151/400\n",
      "19/19 [==============================] - 0s 2ms/step - loss: 4867.1035\n",
      "Epoch 152/400\n",
      "19/19 [==============================] - 0s 2ms/step - loss: 4828.1631\n",
      "Epoch 153/400\n",
      "19/19 [==============================] - 0s 2ms/step - loss: 4783.3018\n",
      "Epoch 154/400\n",
      "19/19 [==============================] - 0s 2ms/step - loss: 4745.2002\n",
      "Epoch 155/400\n",
      "19/19 [==============================] - 0s 2ms/step - loss: 4699.7461\n",
      "Epoch 156/400\n",
      "19/19 [==============================] - 0s 2ms/step - loss: 4660.7944\n",
      "Epoch 157/400\n",
      "19/19 [==============================] - 0s 2ms/step - loss: 4623.9946\n",
      "Epoch 158/400\n",
      "19/19 [==============================] - 0s 2ms/step - loss: 4580.1270\n",
      "Epoch 159/400\n",
      "19/19 [==============================] - 0s 2ms/step - loss: 4545.2534\n",
      "Epoch 160/400\n",
      "19/19 [==============================] - 0s 2ms/step - loss: 4501.2344\n",
      "Epoch 161/400\n",
      "19/19 [==============================] - 0s 2ms/step - loss: 4458.9316\n",
      "Epoch 162/400\n",
      "19/19 [==============================] - 0s 2ms/step - loss: 4418.1431\n",
      "Epoch 163/400\n",
      "19/19 [==============================] - 0s 2ms/step - loss: 4373.7788\n",
      "Epoch 164/400\n",
      "19/19 [==============================] - 0s 2ms/step - loss: 4331.1489\n",
      "Epoch 165/400\n",
      "19/19 [==============================] - 0s 2ms/step - loss: 4292.6235\n",
      "Epoch 166/400\n",
      "19/19 [==============================] - 0s 2ms/step - loss: 4249.4312\n",
      "Epoch 167/400\n",
      "19/19 [==============================] - 0s 2ms/step - loss: 4210.1338\n",
      "Epoch 168/400\n",
      "19/19 [==============================] - 0s 2ms/step - loss: 4167.6094\n",
      "Epoch 169/400\n",
      "19/19 [==============================] - 0s 2ms/step - loss: 4123.8423\n",
      "Epoch 170/400\n",
      "19/19 [==============================] - 0s 2ms/step - loss: 4080.9788\n",
      "Epoch 171/400\n",
      "19/19 [==============================] - 0s 2ms/step - loss: 4042.3013\n",
      "Epoch 172/400\n",
      "19/19 [==============================] - 0s 2ms/step - loss: 3998.4875\n",
      "Epoch 173/400\n",
      "19/19 [==============================] - 0s 2ms/step - loss: 3956.1125\n",
      "Epoch 174/400\n",
      "19/19 [==============================] - 0s 2ms/step - loss: 3918.7720\n",
      "Epoch 175/400\n",
      "19/19 [==============================] - 0s 2ms/step - loss: 3876.1350\n",
      "Epoch 176/400\n",
      "19/19 [==============================] - 0s 2ms/step - loss: 3833.4517\n",
      "Epoch 177/400\n",
      "19/19 [==============================] - 0s 2ms/step - loss: 3794.4346\n",
      "Epoch 178/400\n",
      "19/19 [==============================] - 0s 2ms/step - loss: 3748.5225\n",
      "Epoch 179/400\n",
      "19/19 [==============================] - 0s 2ms/step - loss: 3706.6238\n",
      "Epoch 180/400\n",
      "19/19 [==============================] - 0s 2ms/step - loss: 3675.0447\n",
      "Epoch 181/400\n",
      "19/19 [==============================] - 0s 2ms/step - loss: 3623.5720\n",
      "Epoch 182/400\n",
      "19/19 [==============================] - 0s 2ms/step - loss: 3582.3408\n",
      "Epoch 183/400\n",
      "19/19 [==============================] - 0s 2ms/step - loss: 3541.3132\n",
      "Epoch 184/400\n",
      "19/19 [==============================] - 0s 2ms/step - loss: 3502.3054\n",
      "Epoch 185/400\n",
      "19/19 [==============================] - 0s 2ms/step - loss: 3460.4514\n",
      "Epoch 186/400\n",
      "19/19 [==============================] - 0s 2ms/step - loss: 3413.8372\n",
      "Epoch 187/400\n",
      "19/19 [==============================] - 0s 2ms/step - loss: 3377.5806\n",
      "Epoch 188/400\n",
      "19/19 [==============================] - 0s 2ms/step - loss: 3336.8708\n",
      "Epoch 189/400\n",
      "19/19 [==============================] - 0s 2ms/step - loss: 3293.3303\n",
      "Epoch 190/400\n",
      "19/19 [==============================] - 0s 2ms/step - loss: 3255.7014\n",
      "Epoch 191/400\n",
      "19/19 [==============================] - 0s 2ms/step - loss: 3216.9836\n",
      "Epoch 192/400\n",
      "19/19 [==============================] - 0s 2ms/step - loss: 3166.8704\n",
      "Epoch 193/400\n"
     ]
    },
    {
     "name": "stdout",
     "output_type": "stream",
     "text": [
      "19/19 [==============================] - 0s 2ms/step - loss: 3127.2888\n",
      "Epoch 194/400\n",
      "19/19 [==============================] - 0s 2ms/step - loss: 3088.8352\n",
      "Epoch 195/400\n",
      "19/19 [==============================] - 0s 2ms/step - loss: 3048.0503\n",
      "Epoch 196/400\n",
      "19/19 [==============================] - 0s 1ms/step - loss: 3002.6382\n",
      "Epoch 197/400\n",
      "19/19 [==============================] - 0s 2ms/step - loss: 2962.1438\n",
      "Epoch 198/400\n",
      "19/19 [==============================] - 0s 2ms/step - loss: 2923.9985\n",
      "Epoch 199/400\n",
      "19/19 [==============================] - 0s 2ms/step - loss: 2883.6628\n",
      "Epoch 200/400\n",
      "19/19 [==============================] - 0s 2ms/step - loss: 2841.5706\n",
      "Epoch 201/400\n",
      "19/19 [==============================] - 0s 2ms/step - loss: 2802.1851\n",
      "Epoch 202/400\n",
      "19/19 [==============================] - 0s 2ms/step - loss: 2760.0732\n",
      "Epoch 203/400\n",
      "19/19 [==============================] - 0s 2ms/step - loss: 2733.5359\n",
      "Epoch 204/400\n",
      "19/19 [==============================] - 0s 2ms/step - loss: 2677.2856\n",
      "Epoch 205/400\n",
      "19/19 [==============================] - 0s 2ms/step - loss: 2643.8789\n",
      "Epoch 206/400\n",
      "19/19 [==============================] - 0s 2ms/step - loss: 2602.5425\n",
      "Epoch 207/400\n",
      "19/19 [==============================] - 0s 2ms/step - loss: 2562.1165\n",
      "Epoch 208/400\n",
      "19/19 [==============================] - 0s 2ms/step - loss: 2523.0576\n",
      "Epoch 209/400\n",
      "19/19 [==============================] - 0s 2ms/step - loss: 2483.1721\n",
      "Epoch 210/400\n",
      "19/19 [==============================] - 0s 2ms/step - loss: 2446.0959\n",
      "Epoch 211/400\n",
      "19/19 [==============================] - 0s 2ms/step - loss: 2405.1160\n",
      "Epoch 212/400\n",
      "19/19 [==============================] - 0s 2ms/step - loss: 2369.0583\n",
      "Epoch 213/400\n",
      "19/19 [==============================] - 0s 2ms/step - loss: 2326.8760\n",
      "Epoch 214/400\n",
      "19/19 [==============================] - 0s 2ms/step - loss: 2290.1379\n",
      "Epoch 215/400\n",
      "19/19 [==============================] - 0s 1ms/step - loss: 2251.3582\n",
      "Epoch 216/400\n",
      "19/19 [==============================] - 0s 2ms/step - loss: 2219.5247\n",
      "Epoch 217/400\n",
      "19/19 [==============================] - 0s 2ms/step - loss: 2176.0334\n",
      "Epoch 218/400\n",
      "19/19 [==============================] - 0s 2ms/step - loss: 2141.8928\n",
      "Epoch 219/400\n",
      "19/19 [==============================] - 0s 2ms/step - loss: 2100.1035\n",
      "Epoch 220/400\n",
      "19/19 [==============================] - 0s 2ms/step - loss: 2065.6067\n",
      "Epoch 221/400\n",
      "19/19 [==============================] - 0s 2ms/step - loss: 2028.7004\n",
      "Epoch 222/400\n",
      "19/19 [==============================] - 0s 2ms/step - loss: 1992.9313\n",
      "Epoch 223/400\n",
      "19/19 [==============================] - 0s 2ms/step - loss: 1954.2648\n",
      "Epoch 224/400\n",
      "19/19 [==============================] - 0s 2ms/step - loss: 1921.0356\n",
      "Epoch 225/400\n",
      "19/19 [==============================] - 0s 1ms/step - loss: 1887.2085\n",
      "Epoch 226/400\n",
      "19/19 [==============================] - 0s 1ms/step - loss: 1855.2465\n",
      "Epoch 227/400\n",
      "19/19 [==============================] - 0s 2ms/step - loss: 1815.6265\n",
      "Epoch 228/400\n",
      "19/19 [==============================] - 0s 2ms/step - loss: 1779.2252\n",
      "Epoch 229/400\n",
      "19/19 [==============================] - 0s 2ms/step - loss: 1741.4677\n",
      "Epoch 230/400\n",
      "19/19 [==============================] - 0s 2ms/step - loss: 1714.7520\n",
      "Epoch 231/400\n",
      "19/19 [==============================] - 0s 2ms/step - loss: 1671.6456\n",
      "Epoch 232/400\n",
      "19/19 [==============================] - 0s 2ms/step - loss: 1639.5138\n",
      "Epoch 233/400\n",
      "19/19 [==============================] - 0s 2ms/step - loss: 1608.6603\n",
      "Epoch 234/400\n",
      "19/19 [==============================] - 0s 2ms/step - loss: 1575.1707\n",
      "Epoch 235/400\n",
      "19/19 [==============================] - 0s 2ms/step - loss: 1551.1743\n",
      "Epoch 236/400\n",
      "19/19 [==============================] - 0s 2ms/step - loss: 1510.4952\n",
      "Epoch 237/400\n",
      "19/19 [==============================] - 0s 2ms/step - loss: 1474.4532\n",
      "Epoch 238/400\n",
      "19/19 [==============================] - 0s 2ms/step - loss: 1442.8981\n",
      "Epoch 239/400\n",
      "19/19 [==============================] - 0s 2ms/step - loss: 1410.8835\n",
      "Epoch 240/400\n",
      "19/19 [==============================] - 0s 2ms/step - loss: 1381.0430\n",
      "Epoch 241/400\n",
      "19/19 [==============================] - 0s 2ms/step - loss: 1349.0784\n",
      "Epoch 242/400\n",
      "19/19 [==============================] - 0s 2ms/step - loss: 1322.7175\n",
      "Epoch 243/400\n",
      "19/19 [==============================] - 0s 2ms/step - loss: 1288.7792\n",
      "Epoch 244/400\n",
      "19/19 [==============================] - 0s 2ms/step - loss: 1260.9855\n",
      "Epoch 245/400\n",
      "19/19 [==============================] - 0s 2ms/step - loss: 1224.6573\n",
      "Epoch 246/400\n",
      "19/19 [==============================] - 0s 2ms/step - loss: 1197.2119\n",
      "Epoch 247/400\n",
      "19/19 [==============================] - 0s 2ms/step - loss: 1167.1248\n",
      "Epoch 248/400\n",
      "19/19 [==============================] - 0s 2ms/step - loss: 1141.4351\n",
      "Epoch 249/400\n",
      "19/19 [==============================] - 0s 2ms/step - loss: 1111.7574\n",
      "Epoch 250/400\n",
      "19/19 [==============================] - 0s 2ms/step - loss: 1089.0728\n",
      "Epoch 251/400\n",
      "19/19 [==============================] - 0s 2ms/step - loss: 1060.4829\n",
      "Epoch 252/400\n",
      "19/19 [==============================] - 0s 2ms/step - loss: 1029.1888\n",
      "Epoch 253/400\n",
      "19/19 [==============================] - 0s 1ms/step - loss: 1003.6151\n",
      "Epoch 254/400\n",
      "19/19 [==============================] - 0s 1ms/step - loss: 976.0758\n",
      "Epoch 255/400\n",
      "19/19 [==============================] - 0s 1ms/step - loss: 952.1625\n",
      "Epoch 256/400\n",
      "19/19 [==============================] - 0s 1ms/step - loss: 927.3095\n",
      "Epoch 257/400\n",
      "19/19 [==============================] - 0s 2ms/step - loss: 901.9034\n",
      "Epoch 258/400\n",
      "19/19 [==============================] - 0s 2ms/step - loss: 875.8196\n",
      "Epoch 259/400\n",
      "19/19 [==============================] - 0s 2ms/step - loss: 852.4185\n",
      "Epoch 260/400\n",
      "19/19 [==============================] - 0s 2ms/step - loss: 829.5961\n",
      "Epoch 261/400\n",
      "19/19 [==============================] - 0s 2ms/step - loss: 808.7187\n",
      "Epoch 262/400\n",
      "19/19 [==============================] - 0s 2ms/step - loss: 782.2344\n",
      "Epoch 263/400\n",
      "19/19 [==============================] - 0s 2ms/step - loss: 761.0247\n",
      "Epoch 264/400\n",
      "19/19 [==============================] - 0s 2ms/step - loss: 738.3063\n",
      "Epoch 265/400\n",
      "19/19 [==============================] - 0s 2ms/step - loss: 716.2449\n",
      "Epoch 266/400\n",
      "19/19 [==============================] - 0s 2ms/step - loss: 697.9736\n",
      "Epoch 267/400\n",
      "19/19 [==============================] - 0s 2ms/step - loss: 677.1728\n",
      "Epoch 268/400\n",
      "19/19 [==============================] - 0s 1ms/step - loss: 653.9951\n",
      "Epoch 269/400\n",
      "19/19 [==============================] - 0s 1ms/step - loss: 636.0399\n",
      "Epoch 270/400\n",
      "19/19 [==============================] - 0s 1ms/step - loss: 615.0495\n",
      "Epoch 271/400\n",
      "19/19 [==============================] - 0s 2ms/step - loss: 595.1742\n",
      "Epoch 272/400\n",
      "19/19 [==============================] - 0s 2ms/step - loss: 580.3693\n",
      "Epoch 273/400\n",
      "19/19 [==============================] - 0s 2ms/step - loss: 559.3336\n",
      "Epoch 274/400\n",
      "19/19 [==============================] - 0s 2ms/step - loss: 541.2711\n",
      "Epoch 275/400\n",
      "19/19 [==============================] - 0s 2ms/step - loss: 524.3405\n",
      "Epoch 276/400\n",
      "19/19 [==============================] - 0s 1ms/step - loss: 508.3491\n",
      "Epoch 277/400\n",
      "19/19 [==============================] - 0s 2ms/step - loss: 491.5006\n",
      "Epoch 278/400\n",
      "19/19 [==============================] - 0s 2ms/step - loss: 477.0761\n",
      "Epoch 279/400\n",
      "19/19 [==============================] - 0s 2ms/step - loss: 460.9347\n",
      "Epoch 280/400\n",
      "19/19 [==============================] - 0s 2ms/step - loss: 443.9854\n",
      "Epoch 281/400\n",
      "19/19 [==============================] - 0s 2ms/step - loss: 430.6859\n",
      "Epoch 282/400\n",
      "19/19 [==============================] - 0s 2ms/step - loss: 415.1265\n",
      "Epoch 283/400\n",
      "19/19 [==============================] - 0s 2ms/step - loss: 402.1620\n",
      "Epoch 284/400\n",
      "19/19 [==============================] - 0s 2ms/step - loss: 387.6807\n",
      "Epoch 285/400\n",
      "19/19 [==============================] - 0s 2ms/step - loss: 376.3074\n",
      "Epoch 286/400\n",
      "19/19 [==============================] - 0s 2ms/step - loss: 362.7072\n",
      "Epoch 287/400\n",
      "19/19 [==============================] - 0s 2ms/step - loss: 349.1282\n",
      "Epoch 288/400\n",
      "19/19 [==============================] - 0s 2ms/step - loss: 338.7654\n",
      "Epoch 289/400\n",
      "19/19 [==============================] - 0s 2ms/step - loss: 326.9137\n"
     ]
    },
    {
     "name": "stdout",
     "output_type": "stream",
     "text": [
      "Epoch 290/400\n",
      "19/19 [==============================] - 0s 2ms/step - loss: 314.3755\n",
      "Epoch 291/400\n",
      "19/19 [==============================] - 0s 2ms/step - loss: 304.9944\n",
      "Epoch 292/400\n",
      "19/19 [==============================] - 0s 2ms/step - loss: 293.4752\n",
      "Epoch 293/400\n",
      "19/19 [==============================] - 0s 2ms/step - loss: 283.5658\n",
      "Epoch 294/400\n",
      "19/19 [==============================] - 0s 2ms/step - loss: 273.7891\n",
      "Epoch 295/400\n",
      "19/19 [==============================] - 0s 2ms/step - loss: 266.3799\n",
      "Epoch 296/400\n",
      "19/19 [==============================] - 0s 2ms/step - loss: 258.0469\n",
      "Epoch 297/400\n",
      "19/19 [==============================] - 0s 2ms/step - loss: 246.4141\n",
      "Epoch 298/400\n",
      "19/19 [==============================] - 0s 2ms/step - loss: 238.0770\n",
      "Epoch 299/400\n",
      "19/19 [==============================] - 0s 1ms/step - loss: 230.4038\n",
      "Epoch 300/400\n",
      "19/19 [==============================] - 0s 2ms/step - loss: 224.2696\n",
      "Epoch 301/400\n",
      "19/19 [==============================] - 0s 2ms/step - loss: 214.5360\n",
      "Epoch 302/400\n",
      "19/19 [==============================] - 0s 2ms/step - loss: 208.3620\n",
      "Epoch 303/400\n",
      "19/19 [==============================] - 0s 2ms/step - loss: 201.0861\n",
      "Epoch 304/400\n",
      "19/19 [==============================] - 0s 2ms/step - loss: 194.2504\n",
      "Epoch 305/400\n",
      "19/19 [==============================] - 0s 2ms/step - loss: 187.8965\n",
      "Epoch 306/400\n",
      "19/19 [==============================] - 0s 2ms/step - loss: 181.9924\n",
      "Epoch 307/400\n",
      "19/19 [==============================] - 0s 2ms/step - loss: 176.4149\n",
      "Epoch 308/400\n",
      "19/19 [==============================] - 0s 2ms/step - loss: 170.9234\n",
      "Epoch 309/400\n",
      "19/19 [==============================] - 0s 2ms/step - loss: 165.8150\n",
      "Epoch 310/400\n",
      "19/19 [==============================] - 0s 2ms/step - loss: 160.9303\n",
      "Epoch 311/400\n",
      "19/19 [==============================] - 0s 2ms/step - loss: 156.4422\n",
      "Epoch 312/400\n",
      "19/19 [==============================] - 0s 2ms/step - loss: 151.4036\n",
      "Epoch 313/400\n",
      "19/19 [==============================] - 0s 2ms/step - loss: 147.8986\n",
      "Epoch 314/400\n",
      "19/19 [==============================] - 0s 2ms/step - loss: 142.9192\n",
      "Epoch 315/400\n",
      "19/19 [==============================] - 0s 2ms/step - loss: 139.1028\n",
      "Epoch 316/400\n",
      "19/19 [==============================] - 0s 2ms/step - loss: 135.0744\n",
      "Epoch 317/400\n",
      "19/19 [==============================] - 0s 1ms/step - loss: 131.5282\n",
      "Epoch 318/400\n",
      "19/19 [==============================] - 0s 2ms/step - loss: 128.1629\n",
      "Epoch 319/400\n",
      "19/19 [==============================] - 0s 2ms/step - loss: 125.1649\n",
      "Epoch 320/400\n",
      "19/19 [==============================] - 0s 2ms/step - loss: 122.2607\n",
      "Epoch 321/400\n",
      "19/19 [==============================] - 0s 2ms/step - loss: 119.1308\n",
      "Epoch 322/400\n",
      "19/19 [==============================] - 0s 2ms/step - loss: 116.8697\n",
      "Epoch 323/400\n",
      "19/19 [==============================] - 0s 2ms/step - loss: 113.9530\n",
      "Epoch 324/400\n",
      "19/19 [==============================] - 0s 2ms/step - loss: 112.0018\n",
      "Epoch 325/400\n",
      "19/19 [==============================] - 0s 2ms/step - loss: 109.8913\n",
      "Epoch 326/400\n",
      "19/19 [==============================] - 0s 2ms/step - loss: 107.4673\n",
      "Epoch 327/400\n",
      "19/19 [==============================] - 0s 2ms/step - loss: 105.1325\n",
      "Epoch 328/400\n",
      "19/19 [==============================] - 0s 1ms/step - loss: 103.2371\n",
      "Epoch 329/400\n",
      "19/19 [==============================] - 0s 2ms/step - loss: 102.4192\n",
      "Epoch 330/400\n",
      "19/19 [==============================] - 0s 2ms/step - loss: 99.8035\n",
      "Epoch 331/400\n",
      "19/19 [==============================] - 0s 2ms/step - loss: 98.1987\n",
      "Epoch 332/400\n",
      "19/19 [==============================] - 0s 2ms/step - loss: 96.6661\n",
      "Epoch 333/400\n",
      "19/19 [==============================] - 0s 2ms/step - loss: 95.4896\n",
      "Epoch 334/400\n",
      "19/19 [==============================] - 0s 1ms/step - loss: 94.5390\n",
      "Epoch 335/400\n",
      "19/19 [==============================] - 0s 2ms/step - loss: 92.9692\n",
      "Epoch 336/400\n",
      "19/19 [==============================] - 0s 2ms/step - loss: 91.5282\n",
      "Epoch 337/400\n",
      "19/19 [==============================] - 0s 2ms/step - loss: 91.2287\n",
      "Epoch 338/400\n",
      "19/19 [==============================] - 0s 2ms/step - loss: 89.5087\n",
      "Epoch 339/400\n",
      "19/19 [==============================] - 0s 2ms/step - loss: 88.8779\n",
      "Epoch 340/400\n",
      "19/19 [==============================] - 0s 2ms/step - loss: 87.8270\n",
      "Epoch 341/400\n",
      "19/19 [==============================] - 0s 2ms/step - loss: 87.1027\n",
      "Epoch 342/400\n",
      "19/19 [==============================] - 0s 1ms/step - loss: 86.2101\n",
      "Epoch 343/400\n",
      "19/19 [==============================] - 0s 2ms/step - loss: 85.4876\n",
      "Epoch 344/400\n",
      "19/19 [==============================] - 0s 2ms/step - loss: 85.6398\n",
      "Epoch 345/400\n",
      "19/19 [==============================] - 0s 2ms/step - loss: 84.6753\n",
      "Epoch 346/400\n",
      "19/19 [==============================] - 0s 2ms/step - loss: 83.8486\n",
      "Epoch 347/400\n",
      "19/19 [==============================] - 0s 2ms/step - loss: 83.3126\n",
      "Epoch 348/400\n",
      "19/19 [==============================] - 0s 2ms/step - loss: 82.7540\n",
      "Epoch 349/400\n",
      "19/19 [==============================] - 0s 2ms/step - loss: 82.2632\n",
      "Epoch 350/400\n",
      "19/19 [==============================] - 0s 1ms/step - loss: 81.7845\n",
      "Epoch 351/400\n",
      "19/19 [==============================] - 0s 1ms/step - loss: 81.5531\n",
      "Epoch 352/400\n",
      "19/19 [==============================] - 0s 2ms/step - loss: 82.2923\n",
      "Epoch 353/400\n",
      "19/19 [==============================] - 0s 2ms/step - loss: 80.9755\n",
      "Epoch 354/400\n",
      "19/19 [==============================] - 0s 2ms/step - loss: 80.4195\n",
      "Epoch 355/400\n",
      "19/19 [==============================] - 0s 2ms/step - loss: 80.7067\n",
      "Epoch 356/400\n",
      "19/19 [==============================] - 0s 2ms/step - loss: 80.5216\n",
      "Epoch 357/400\n",
      "19/19 [==============================] - 0s 2ms/step - loss: 81.4464\n",
      "Epoch 358/400\n",
      "19/19 [==============================] - 0s 2ms/step - loss: 83.2684\n",
      "Epoch 359/400\n",
      "19/19 [==============================] - 0s 2ms/step - loss: 81.9244\n",
      "Epoch 360/400\n",
      "19/19 [==============================] - 0s 2ms/step - loss: 80.2535\n",
      "Epoch 361/400\n",
      "19/19 [==============================] - 0s 2ms/step - loss: 79.4006\n",
      "Epoch 362/400\n",
      "19/19 [==============================] - 0s 2ms/step - loss: 78.9895\n",
      "Epoch 363/400\n",
      "19/19 [==============================] - 0s 2ms/step - loss: 78.6102\n",
      "Epoch 364/400\n",
      "19/19 [==============================] - 0s 2ms/step - loss: 79.0159\n",
      "Epoch 365/400\n",
      "19/19 [==============================] - 0s 2ms/step - loss: 80.4414\n",
      "Epoch 366/400\n",
      "19/19 [==============================] - 0s 1ms/step - loss: 79.1606\n",
      "Epoch 367/400\n",
      "19/19 [==============================] - 0s 1ms/step - loss: 78.7523\n",
      "Epoch 368/400\n",
      "19/19 [==============================] - 0s 2ms/step - loss: 78.3162\n",
      "Epoch 369/400\n",
      "19/19 [==============================] - 0s 2ms/step - loss: 78.9998\n",
      "Epoch 370/400\n",
      "19/19 [==============================] - 0s 2ms/step - loss: 77.8338\n",
      "Epoch 371/400\n",
      "19/19 [==============================] - 0s 2ms/step - loss: 78.7740\n",
      "Epoch 372/400\n",
      "19/19 [==============================] - 0s 2ms/step - loss: 78.7938\n",
      "Epoch 373/400\n",
      "19/19 [==============================] - 0s 1ms/step - loss: 77.8947\n",
      "Epoch 374/400\n",
      "19/19 [==============================] - 0s 2ms/step - loss: 77.6117\n",
      "Epoch 375/400\n",
      "19/19 [==============================] - 0s 2ms/step - loss: 77.7001\n",
      "Epoch 376/400\n",
      "19/19 [==============================] - 0s 2ms/step - loss: 77.7314\n",
      "Epoch 377/400\n",
      "19/19 [==============================] - 0s 2ms/step - loss: 78.2927\n",
      "Epoch 378/400\n",
      "19/19 [==============================] - 0s 2ms/step - loss: 78.5339\n",
      "Epoch 379/400\n",
      "19/19 [==============================] - 0s 1ms/step - loss: 77.2675\n",
      "Epoch 380/400\n",
      "19/19 [==============================] - 0s 2ms/step - loss: 77.5027\n",
      "Epoch 381/400\n",
      "19/19 [==============================] - 0s 2ms/step - loss: 79.0075\n",
      "Epoch 382/400\n",
      "19/19 [==============================] - 0s 2ms/step - loss: 78.5011\n",
      "Epoch 383/400\n",
      "19/19 [==============================] - 0s 2ms/step - loss: 77.5288\n",
      "Epoch 384/400\n",
      "19/19 [==============================] - 0s 1ms/step - loss: 77.8131\n",
      "Epoch 385/400\n",
      "19/19 [==============================] - 0s 2ms/step - loss: 78.4074\n",
      "Epoch 386/400\n",
      "19/19 [==============================] - 0s 2ms/step - loss: 77.4920\n",
      "Epoch 387/400\n",
      "19/19 [==============================] - 0s 2ms/step - loss: 78.0054\n",
      "Epoch 388/400\n"
     ]
    },
    {
     "name": "stdout",
     "output_type": "stream",
     "text": [
      "19/19 [==============================] - 0s 2ms/step - loss: 78.1061\n",
      "Epoch 389/400\n",
      "19/19 [==============================] - 0s 2ms/step - loss: 77.7580\n",
      "Epoch 390/400\n",
      "19/19 [==============================] - 0s 1ms/step - loss: 77.2218\n",
      "Epoch 391/400\n",
      "19/19 [==============================] - 0s 2ms/step - loss: 77.6905\n",
      "Epoch 392/400\n",
      "19/19 [==============================] - 0s 2ms/step - loss: 79.0534\n",
      "Epoch 393/400\n",
      "19/19 [==============================] - 0s 2ms/step - loss: 77.8377\n",
      "Epoch 394/400\n",
      "19/19 [==============================] - 0s 2ms/step - loss: 78.3268\n",
      "Epoch 395/400\n",
      "19/19 [==============================] - 0s 2ms/step - loss: 77.8878\n",
      "Epoch 396/400\n",
      "19/19 [==============================] - 0s 2ms/step - loss: 77.6138\n",
      "Epoch 397/400\n",
      "19/19 [==============================] - 0s 1ms/step - loss: 77.6879\n",
      "Epoch 398/400\n",
      "19/19 [==============================] - 0s 2ms/step - loss: 78.1202\n",
      "Epoch 399/400\n",
      "19/19 [==============================] - 0s 2ms/step - loss: 80.0730\n",
      "Epoch 400/400\n",
      "19/19 [==============================] - 0s 2ms/step - loss: 77.7538\n"
     ]
    },
    {
     "data": {
      "text/plain": [
       "<keras.src.callbacks.History at 0x2b170a94b50>"
      ]
     },
     "execution_count": 121,
     "metadata": {},
     "output_type": "execute_result"
    }
   ],
   "source": [
    "model = Sequential() ## model oluşturduk burda şimdi buna katman eklicez\n",
    "#modelin içine nöron eklicez\n",
    "\n",
    "model.add(Dense(5,activation=\"relu\"))  #5 kataman 6  nöron var burda\n",
    "model.add(Dense(5,activation=\"relu\"))\n",
    "model.add(Dense(5,activation=\"relu\"))\n",
    "model.add(Dense(5,activation=\"relu\"))\n",
    "model.add(Dense(5,activation=\"relu\"))\n",
    "# modelime 3 kataman  ekledim bir de çıktı katmanı oluştutuvcam\n",
    "\n",
    "model.add(Dense(1))\n",
    "\n",
    "model.compile(optimizer=\"adam\",loss=\"mse\") #mse sonuçtan bulunanı cıkartıp karesini alıp topluyor bunun üzerinde adam rmsprop ile gezinerek min noktasını buluyoruz ve ona göre değişiyor nöronların fonksyonları\n",
    "\n",
    "model.fit(x_train,y_train,epochs=400,verbos=0)"
   ]
  },
  {
   "cell_type": "code",
   "execution_count": 122,
   "id": "0453e58d",
   "metadata": {},
   "outputs": [],
   "source": [
    "hata_grafigi = model.history.history[\"loss\"]"
   ]
  },
  {
   "cell_type": "code",
   "execution_count": 123,
   "id": "68ec8302",
   "metadata": {},
   "outputs": [
    {
     "data": {
      "text/plain": [
       "<Axes: >"
      ]
     },
     "execution_count": 123,
     "metadata": {},
     "output_type": "execute_result"
    },
    {
     "data": {
      "image/png": "[encoded data removed]",
      "text/plain": [
       "<Figure size 640x480 with 1 Axes>"
      ]
     },
     "metadata": {},
     "output_type": "display_data"
    }
   ],
   "source": [
    "sbn.lineplot(x=range(len(hata_grafigi)),y = hata_grafigi)"
   ]
  },
  {
   "cell_type": "code",
   "execution_count": 124,
   "id": "8aa44894",
   "metadata": {},
   "outputs": [
    {
     "name": "stdout",
     "output_type": "stream",
     "text": [
      "13/13 [==============================] - 0s 1ms/step\n"
     ]
    }
   ],
   "source": [
    "test_tahminleri = model.predict(x_test)"
   ]
  },
  {
   "cell_type": "code",
   "execution_count": 125,
   "id": "c07f5db8",
   "metadata": {},
   "outputs": [],
   "source": [
    "tahmin_degeri = pd.DataFrame(y_test,columns=[\"gercek_deger\"])"
   ]
  },
  {
   "cell_type": "code",
   "execution_count": 126,
   "id": "5021f2a5",
   "metadata": {},
   "outputs": [
    {
     "data": {
      "text/html": [
       "<div>\n",
       "<style scoped>\n",
       "    .dataframe tbody tr th:only-of-type {\n",
       "        vertical-align: middle;\n",
       "    }\n",
       "\n",
       "    .dataframe tbody tr th {\n",
       "        vertical-align: top;\n",
       "    }\n",
       "\n",
       "    .dataframe thead th {\n",
       "        text-align: right;\n",
       "    }\n",
       "</style>\n",
       "<table border=\"1\" class=\"dataframe\">\n",
       "  <thead>\n",
       "    <tr style=\"text-align: right;\">\n",
       "      <th></th>\n",
       "      <th>gercek_deger</th>\n",
       "    </tr>\n",
       "  </thead>\n",
       "  <tbody>\n",
       "    <tr>\n",
       "      <th>0</th>\n",
       "      <td>816.732802</td>\n",
       "    </tr>\n",
       "    <tr>\n",
       "      <th>1</th>\n",
       "      <td>842.683560</td>\n",
       "    </tr>\n",
       "    <tr>\n",
       "      <th>2</th>\n",
       "      <td>897.662404</td>\n",
       "    </tr>\n",
       "    <tr>\n",
       "      <th>3</th>\n",
       "      <td>906.512419</td>\n",
       "    </tr>\n",
       "    <tr>\n",
       "      <th>4</th>\n",
       "      <td>1067.660488</td>\n",
       "    </tr>\n",
       "    <tr>\n",
       "      <th>...</th>\n",
       "      <td>...</td>\n",
       "    </tr>\n",
       "    <tr>\n",
       "      <th>395</th>\n",
       "      <td>919.723311</td>\n",
       "    </tr>\n",
       "    <tr>\n",
       "      <th>396</th>\n",
       "      <td>950.442374</td>\n",
       "    </tr>\n",
       "    <tr>\n",
       "      <th>397</th>\n",
       "      <td>886.093773</td>\n",
       "    </tr>\n",
       "    <tr>\n",
       "      <th>398</th>\n",
       "      <td>1245.401103</td>\n",
       "    </tr>\n",
       "    <tr>\n",
       "      <th>399</th>\n",
       "      <td>829.859454</td>\n",
       "    </tr>\n",
       "  </tbody>\n",
       "</table>\n",
       "<p>400 rows × 1 columns</p>\n",
       "</div>"
      ],
      "text/plain": [
       "     gercek_deger\n",
       "0      816.732802\n",
       "1      842.683560\n",
       "2      897.662404\n",
       "3      906.512419\n",
       "4     1067.660488\n",
       "..            ...\n",
       "395    919.723311\n",
       "396    950.442374\n",
       "397    886.093773\n",
       "398   1245.401103\n",
       "399    829.859454\n",
       "\n",
       "[400 rows x 1 columns]"
      ]
     },
     "execution_count": 126,
     "metadata": {},
     "output_type": "execute_result"
    }
   ],
   "source": [
    "tahmin_degeri"
   ]
  },
  {
   "cell_type": "code",
   "execution_count": 127,
   "id": "19b39fcd",
   "metadata": {},
   "outputs": [],
   "source": [
    "tahmin_degeri[\"model_tahmini\"] = np.array(test_tahminleri)"
   ]
  },
  {
   "cell_type": "code",
   "execution_count": 128,
   "id": "36eb949b",
   "metadata": {},
   "outputs": [
    {
     "data": {
      "text/html": [
       "<div>\n",
       "<style scoped>\n",
       "    .dataframe tbody tr th:only-of-type {\n",
       "        vertical-align: middle;\n",
       "    }\n",
       "\n",
       "    .dataframe tbody tr th {\n",
       "        vertical-align: top;\n",
       "    }\n",
       "\n",
       "    .dataframe thead th {\n",
       "        text-align: right;\n",
       "    }\n",
       "</style>\n",
       "<table border=\"1\" class=\"dataframe\">\n",
       "  <thead>\n",
       "    <tr style=\"text-align: right;\">\n",
       "      <th></th>\n",
       "      <th>gercek_deger</th>\n",
       "      <th>model_tahmini</th>\n",
       "    </tr>\n",
       "  </thead>\n",
       "  <tbody>\n",
       "    <tr>\n",
       "      <th>0</th>\n",
       "      <td>816.732802</td>\n",
       "      <td>817.459839</td>\n",
       "    </tr>\n",
       "    <tr>\n",
       "      <th>1</th>\n",
       "      <td>842.683560</td>\n",
       "      <td>855.117920</td>\n",
       "    </tr>\n",
       "    <tr>\n",
       "      <th>2</th>\n",
       "      <td>897.662404</td>\n",
       "      <td>904.051392</td>\n",
       "    </tr>\n",
       "    <tr>\n",
       "      <th>3</th>\n",
       "      <td>906.512419</td>\n",
       "      <td>920.559937</td>\n",
       "    </tr>\n",
       "    <tr>\n",
       "      <th>4</th>\n",
       "      <td>1067.660488</td>\n",
       "      <td>1067.755249</td>\n",
       "    </tr>\n",
       "    <tr>\n",
       "      <th>...</th>\n",
       "      <td>...</td>\n",
       "      <td>...</td>\n",
       "    </tr>\n",
       "    <tr>\n",
       "      <th>395</th>\n",
       "      <td>919.723311</td>\n",
       "      <td>925.364136</td>\n",
       "    </tr>\n",
       "    <tr>\n",
       "      <th>396</th>\n",
       "      <td>950.442374</td>\n",
       "      <td>958.715088</td>\n",
       "    </tr>\n",
       "    <tr>\n",
       "      <th>397</th>\n",
       "      <td>886.093773</td>\n",
       "      <td>910.330078</td>\n",
       "    </tr>\n",
       "    <tr>\n",
       "      <th>398</th>\n",
       "      <td>1245.401103</td>\n",
       "      <td>1255.420776</td>\n",
       "    </tr>\n",
       "    <tr>\n",
       "      <th>399</th>\n",
       "      <td>829.859454</td>\n",
       "      <td>837.988037</td>\n",
       "    </tr>\n",
       "  </tbody>\n",
       "</table>\n",
       "<p>400 rows × 2 columns</p>\n",
       "</div>"
      ],
      "text/plain": [
       "     gercek_deger  model_tahmini\n",
       "0      816.732802     817.459839\n",
       "1      842.683560     855.117920\n",
       "2      897.662404     904.051392\n",
       "3      906.512419     920.559937\n",
       "4     1067.660488    1067.755249\n",
       "..            ...            ...\n",
       "395    919.723311     925.364136\n",
       "396    950.442374     958.715088\n",
       "397    886.093773     910.330078\n",
       "398   1245.401103    1255.420776\n",
       "399    829.859454     837.988037\n",
       "\n",
       "[400 rows x 2 columns]"
      ]
     },
     "execution_count": 128,
     "metadata": {},
     "output_type": "execute_result"
    }
   ],
   "source": [
    "tahmin_degeri"
   ]
  },
  {
   "cell_type": "code",
   "execution_count": 129,
   "id": "77365498",
   "metadata": {},
   "outputs": [
    {
     "data": {
      "text/plain": [
       "<Axes: xlabel='gercek_deger', ylabel='model_tahmini'>"
      ]
     },
     "execution_count": 129,
     "metadata": {},
     "output_type": "execute_result"
    },
    {
     "data": {
      "image/png": "[encoded data removed]",
      "text/plain": [
       "<Figure size 640x480 with 1 Axes>"
      ]
     },
     "metadata": {},
     "output_type": "display_data"
    }
   ],
   "source": [
    "sbn.scatterplot(x=\"gercek_deger\", y=\"model_tahmini\", hue=\"gercek_deger\", data=tahmin_degeri, palette=\"viridis\")"
   ]
  },
  {
   "cell_type": "code",
   "execution_count": 130,
   "id": "bbe7969b",
   "metadata": {},
   "outputs": [
    {
     "data": {
      "text/plain": [
       "11.447093777962891"
      ]
     },
     "execution_count": 130,
     "metadata": {},
     "output_type": "execute_result"
    }
   ],
   "source": [
    "#hata sapma oranını : \n",
    "from sklearn.metrics import mean_absolute_error\n",
    "\n",
    "mean_absolute_error(tahmin_degeri[\"gercek_deger\"],tahmin_degeri[\"model_tahmini\"])\n",
    "#modelimizde +-11.447093777962891 sapma mevcuttur"
   ]
  },
  {
   "cell_type": "code",
   "execution_count": 131,
   "id": "91ebb7da",
   "metadata": {},
   "outputs": [
    {
     "data": {
      "text/html": [
       "<div>\n",
       "<style scoped>\n",
       "    .dataframe tbody tr th:only-of-type {\n",
       "        vertical-align: middle;\n",
       "    }\n",
       "\n",
       "    .dataframe tbody tr th {\n",
       "        vertical-align: top;\n",
       "    }\n",
       "\n",
       "    .dataframe thead th {\n",
       "        text-align: right;\n",
       "    }\n",
       "</style>\n",
       "<table border=\"1\" class=\"dataframe\">\n",
       "  <thead>\n",
       "    <tr style=\"text-align: right;\">\n",
       "      <th></th>\n",
       "      <th>gercek_deger</th>\n",
       "      <th>model_tahmini</th>\n",
       "    </tr>\n",
       "  </thead>\n",
       "  <tbody>\n",
       "    <tr>\n",
       "      <th>count</th>\n",
       "      <td>400.000000</td>\n",
       "      <td>400.000000</td>\n",
       "    </tr>\n",
       "    <tr>\n",
       "      <th>mean</th>\n",
       "      <td>850.943900</td>\n",
       "      <td>860.661499</td>\n",
       "    </tr>\n",
       "    <tr>\n",
       "      <th>std</th>\n",
       "      <td>163.494868</td>\n",
       "      <td>166.049332</td>\n",
       "    </tr>\n",
       "    <tr>\n",
       "      <th>min</th>\n",
       "      <td>390.856887</td>\n",
       "      <td>409.167480</td>\n",
       "    </tr>\n",
       "    <tr>\n",
       "      <th>25%</th>\n",
       "      <td>732.519971</td>\n",
       "      <td>739.587982</td>\n",
       "    </tr>\n",
       "    <tr>\n",
       "      <th>50%</th>\n",
       "      <td>851.105359</td>\n",
       "      <td>861.693604</td>\n",
       "    </tr>\n",
       "    <tr>\n",
       "      <th>75%</th>\n",
       "      <td>961.458607</td>\n",
       "      <td>970.197250</td>\n",
       "    </tr>\n",
       "    <tr>\n",
       "      <th>max</th>\n",
       "      <td>1355.213745</td>\n",
       "      <td>1369.537476</td>\n",
       "    </tr>\n",
       "  </tbody>\n",
       "</table>\n",
       "</div>"
      ],
      "text/plain": [
       "       gercek_deger  model_tahmini\n",
       "count    400.000000     400.000000\n",
       "mean     850.943900     860.661499\n",
       "std      163.494868     166.049332\n",
       "min      390.856887     409.167480\n",
       "25%      732.519971     739.587982\n",
       "50%      851.105359     861.693604\n",
       "75%      961.458607     970.197250\n",
       "max     1355.213745    1369.537476"
      ]
     },
     "execution_count": 131,
     "metadata": {},
     "output_type": "execute_result"
    }
   ],
   "source": [
    "tahmin_degeri.describe()"
   ]
  },
  {
   "cell_type": "code",
   "execution_count": 132,
   "id": "9f2a5dc6",
   "metadata": {},
   "outputs": [],
   "source": [
    "#yeni tahminlerde bulunalım "
   ]
  },
  {
   "cell_type": "markdown",
   "id": "6560f26f",
   "metadata": {},
   "source": [
    "833,9206369 =  1750,033229\t1749,427281 exelden alınan örnek\n"
   ]
  },
  {
   "cell_type": "code",
   "execution_count": 141,
   "id": "26f7caa1",
   "metadata": {},
   "outputs": [],
   "source": [
    "yeni_bisilet_özellik = [[1750.033229,1749.427281]]\n",
    "yeni_bisilet_özellik2 = [[1748.656426,1752.539962]]"
   ]
  },
  {
   "cell_type": "code",
   "execution_count": 143,
   "id": "b42b3d5d",
   "metadata": {},
   "outputs": [],
   "source": [
    "veri = scaler.transform(yeni_bisilet_özellik)"
   ]
  },
  {
   "cell_type": "code",
   "execution_count": 144,
   "id": "d3c5dc2d",
   "metadata": {},
   "outputs": [
    {
     "data": {
      "text/plain": [
       "array([[0.47984163, 0.48089894]])"
      ]
     },
     "execution_count": 144,
     "metadata": {},
     "output_type": "execute_result"
    }
   ],
   "source": [
    "veri"
   ]
  },
  {
   "cell_type": "code",
   "execution_count": 145,
   "id": "94bfa170",
   "metadata": {},
   "outputs": [
    {
     "name": "stdout",
     "output_type": "stream",
     "text": [
      "1/1 [==============================] - 0s 20ms/step\n"
     ]
    },
    {
     "data": {
      "text/plain": [
       "array([[835.2836]], dtype=float32)"
      ]
     },
     "execution_count": 145,
     "metadata": {},
     "output_type": "execute_result"
    }
   ],
   "source": [
    "model.predict(veri)"
   ]
  },
  {
   "cell_type": "markdown",
   "id": "b055bdd8",
   "metadata": {},
   "source": [
    "örnek1 : model tahmini  = 835.2836 iken gerçek degerimiz = 833,9206369"
   ]
  },
  {
   "cell_type": "markdown",
   "id": "43157d86",
   "metadata": {},
   "source": [
    "örnek2 : model tahmini  = 1091.9861 iken gerçek degerimiz = 1053.4865"
   ]
  },
  {
   "cell_type": "code",
   "execution_count": 146,
   "id": "b7b4e38d",
   "metadata": {},
   "outputs": [],
   "source": [
    "#model kaydetmek için:\n",
    "from tensorflow.keras.models import load_model"
   ]
  },
  {
   "cell_type": "code",
   "execution_count": 157,
   "id": "f051d96b",
   "metadata": {},
   "outputs": [],
   "source": [
    "model.save(\"bisiklet_modeli.keras\")"
   ]
  },
  {
   "cell_type": "code",
   "execution_count": 158,
   "id": "a13533ec",
   "metadata": {},
   "outputs": [],
   "source": [
    "loaded_model = load_model('bisiklet_modeli.keras') #modeli yükledmim\n"
   ]
  },
  {
   "cell_type": "code",
   "execution_count": 186,
   "id": "dd54b469",
   "metadata": {},
   "outputs": [
    {
     "data": {
      "text/plain": [
       "array([[0.47654209, 0.53968791]])"
      ]
     },
     "execution_count": 186,
     "metadata": {},
     "output_type": "execute_result"
    }
   ],
   "source": [
    "kontrol_verisi =  [[1750,1750]] #var olmayan bir bisiklet denendi\n",
    "kontrol_verisi  = scaler.transform(kontrol_verisi)\n",
    "kontrol_verisi"
   ]
  },
  {
   "cell_type": "code",
   "execution_count": 187,
   "id": "a78bc075",
   "metadata": {},
   "outputs": [
    {
     "name": "stdout",
     "output_type": "stream",
     "text": [
      "1/1 [==============================] - 0s 20ms/step\n"
     ]
    },
    {
     "data": {
      "text/plain": [
       "array([[884.908]], dtype=float32)"
      ]
     },
     "execution_count": 187,
     "metadata": {},
     "output_type": "execute_result"
    }
   ],
   "source": [
    "loaded_model.predict(kontrol_verisi)"
   ]
  },
  {
   "cell_type": "code",
   "execution_count": null,
   "id": "cd9195dd",
   "metadata": {},
   "outputs": [],
   "source": []
  }
 ],
 "metadata": {
  "kernelspec": {
   "display_name": "Python 3 (ipykernel)",
   "language": "python",
   "name": "python3"
  },
  "language_info": {
   "codemirror_mode": {
    "name": "ipython",
    "version": 3
   },
   "file_extension": ".py",
   "mimetype": "text/x-python",
   "name": "python",
   "nbconvert_exporter": "python",
   "pygments_lexer": "ipython3",
   "version": "3.11.4"
  }
 },
 "nbformat": 4,
 "nbformat_minor": 5
}
